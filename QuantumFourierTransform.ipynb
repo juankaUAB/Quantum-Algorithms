{
 "cells": [
  {
   "attachments": {},
   "cell_type": "markdown",
   "metadata": {},
   "source": [
    "<b>Quantum Fourier Transform (QFT)</b>"
   ]
  },
  {
   "attachments": {},
   "cell_type": "markdown",
   "metadata": {},
   "source": [
    "In this notebook we will introduce the Quantum Fourier Transform, the analogue of the classical Fourier Transform, that is widely used in physics and maths to transform signals from time or spatial domain to frequency domain. One example of application is, in Computer Vision, to correct images and delete low frequencies, in order to smooth an image that is full of noise."
   ]
  },
  {
   "attachments": {},
   "cell_type": "markdown",
   "metadata": {},
   "source": [
    "Here, in the Quantum world, we are going to use the Quantum Fourier Transform in other algorithms, so QFT is an essential part of many algorithms such as Shor's Algorithm, or the Phase Estimation algorithm, that we are going to see in other notebooks. However, Quantum Fourier Transformation has the same core, that is to transform from one domain to frequency domain, and we will reach that by applying some transformations over the amplitudes of the signal."
   ]
  },
  {
   "attachments": {},
   "cell_type": "markdown",
   "metadata": {},
   "source": [
    "As a introduction, we are going to see the fundamentals of QFT and the transformations it does.  \n",
    "  \n",
    "The discrete Fourier transform acts on a vector (x0,...,xN−1) and maps it to another vector (y0, ... , yN-1) according to this formula:  \n",
    "$y_k = \\frac{1}{\\sqrt{N}}\\sum_{j=0}^{N-1}x_j\\omega_N^{jk}$  \n",
    "where $\\omega_N^{jk} = e^{2\\pi i \\frac{jk}{N}}$ , a simple rotation of the state over the z axis.  \n",
    "  \n",
    "So, the final mapping that QFT does to our initial qubit, is:  \n",
    "$\\vert j \\rangle \\mapsto \\frac{1}{\\sqrt{N}}\\sum_{k=0}^{N-1}\\omega_N^{jk} \\vert k \\rangle$  \n",
    "  \n",
    "To have that, before that map we will have to apply Hadamart gate to all qubits to create a superposition of all states."
   ]
  },
  {
   "attachments": {},
   "cell_type": "markdown",
   "metadata": {},
   "source": [
    "Now we will see a visual example to understand better what QFT does to our qubits.  \n",
    "In the computational basis, we store the qubits in state |0> or |1> (z-axis):  \n",
    "  \n",
    "<img src=\"https://qiskit.org/textbook/ch-algorithms/images/zbasis-counting.gif\">  \n",
    "  \n",
    "Here, the frequency with which qubit flips its state is different: the leftmost qubit (the least significant, remember 0 is least significant and 3 is most significant) flips with every increment of the number they represent, the next with every 2 increments, and so on. In Fourier basis, we store the numbers doing rotations along z axis:  \n",
    "  \n",
    "<img src=\"https://qiskit.org/textbook/ch-algorithms/images/fourierbasis-counting.gif\">  \n",
    "  \n",
    "And the number we have to store in the qubits also says the angle at which each qubit is rotated around z-axis. We can also see on the image that all qubits are in |+>, that's why we have to put a Hadamart gate on every qubit. In above example, if we want to encode |5> state, we only have to rotate each qubit, from leftmost to rightmost, by (5/2^n) times. Having 4 qubits as in the example, we will have to do 5/2^4 = 5/16 full turns (5/16 x 2pi radians). The next qubit is rotated double times (10/16 x 2pi radians), and so on... (we only have to double the angle)."
   ]
  },
  {
   "attachments": {},
   "cell_type": "markdown",
   "metadata": {},
   "source": [
    "Now, to implement the circuit that does the Quantum Fourier Transform, we will use 2 different types of gates. The first one we have introduced it previously, the Hadamart gate, and we will use one new gate: the controlled rotation (CROT) around z-axis, given an angle. We can see a representation of the circuit here:  \n",
    "  \n",
    "<img src=\"https://qiskit.org/textbook/ch-algorithms/images/qft.png\">"
   ]
  }
 ],
 "metadata": {
  "kernelspec": {
   "display_name": "Python 3",
   "language": "python",
   "name": "python3"
  },
  "language_info": {
   "name": "python",
   "version": "3.11.1"
  },
  "orig_nbformat": 4,
  "vscode": {
   "interpreter": {
    "hash": "8f7fc98bfb4723657a38f5add945f22f2501fb8813699e23552ce7cfb912a0b7"
   }
  }
 },
 "nbformat": 4,
 "nbformat_minor": 2
}
