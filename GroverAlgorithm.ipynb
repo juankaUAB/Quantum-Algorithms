{
 "cells": [
  {
   "attachments": {},
   "cell_type": "markdown",
   "metadata": {},
   "source": [
    "<b>Grover Algorithm</b>"
   ]
  },
  {
   "attachments": {},
   "cell_type": "markdown",
   "metadata": {},
   "source": [
    "In this notebook we will introduce and explain Grover's Algorithm, that is used for unstructured search problems. As it is a quantum algorithm, it offers advantages that classical algorithms that cover the same problem cannot give, and that's why is widely used in that type of problems. This algorithm can give more speed in large database searches and, so, can speed up an unstructured search, specially when is very large.  \n",
    "  \n",
    "The main feature of Grover's Algorithm is the amplitude amplification trick, that consists on amplifying the amplitude of the element that we want to find. For that, we will pass to the algorithm a unstructured list, and the algorithm, with an oracle, will amplify the amplitude of the element that we want to find. That's why we will have to code the Oracle to do an specific task, on a specific element of the list.  \n",
    "  \n",
    "We will call this element we want to find the winner, w.  \n",
    "  \n",
    "<img src=\"https://qiskit.org/textbook/ch-algorithms/images/grover_list.png\">  \n",
    "  \n",
    "To find the purple element, in classical computation we would have to check, on average, N/2 of these boxes (half of all), and in the worst case, all of them, and in the best case, we will find it at first position. On quantum computation, we can find it in $\\sqrt{N}$ steps with Grover's amplitude amplification trick. Additionally, the algorithm doesn't use the list's internal structure, because it works with qubits, which makes it generic and reduces the complexity."
   ]
  },
  {
   "attachments": {},
   "cell_type": "markdown",
   "metadata": {},
   "source": [
    "Now, we will talk about the oracle. We have to create a oracle that is able to change the phase of the element that we want to find. For example, we have 3 qubits (and that involves that our unstructed list is: [000,001,...,111]), and we want to find the element 101, so w = 101. Grover's algorithm will do:  \n",
    "  \n",
    "$U_\\omega|x\\rangle = \\bigg\\{\n",
    "\\begin{aligned}\n",
    "\\phantom{-}|x\\rangle \\quad \\text{if} \\; x \\neq \\omega \\\\\n",
    "-|x\\rangle \\quad \\text{if} \\; x = \\omega \\\\\n",
    "\\end{aligned}$  \n",
    "  \n",
    "And we can do that with custom gates that have associated an unitary matrix. The gate that can change the phase of 101 is:  \n",
    "  \n",
    "$U_\\omega = \n",
    "\\begin{bmatrix}\n",
    "1 & 0 & 0 & 0 & 0 & 0 & 0 & 0 \\\\\n",
    "0 & 1 & 0 & 0 & 0 & 0 & 0 & 0 \\\\\n",
    "0 & 0 & 1 & 0 & 0 & 0 & 0 & 0 \\\\\n",
    "0 & 0 & 0 & 1 & 0 & 0 & 0 & 0 \\\\\n",
    "0 & 0 & 0 & 0 & 1 & 0 & 0 & 0 \\\\\n",
    "0 & 0 & 0 & 0 & 0 & -1 & 0 & 0 \\\\\n",
    "0 & 0 & 0 & 0 & 0 & 0 & 1 & 0 \\\\\n",
    "0 & 0 & 0 & 0 & 0 & 0 & 0 & 1 \\\\\n",
    "\\end{bmatrix}\n",
    "\\begin{aligned}\n",
    "\\\\\n",
    "\\\\\n",
    "\\\\\n",
    "\\\\\n",
    "\\\\\n",
    "\\\\\n",
    "\\leftarrow \\omega = \\text{101}\\\\\n",
    "\\\\\n",
    "\\\\\n",
    "\\\\\n",
    "\\end{aligned}$"
   ]
  },
  {
   "attachments": {},
   "cell_type": "markdown",
   "metadata": {},
   "source": [
    "Once we have the phase of the element we want to find, we will apply an additional reflection ($U_s = 2|s\\rangle\\langle s| - I$) that reflects the unique negative state (the state we want to find) with large amplitude than the rest of the elements. Finally, when we measure all the qubits, we will find that the most probable state is the state we want to find, the winner state.  \n",
    "Here we have a representation of all the process:  \n",
    "  \n",
    "<img src=\"https://qiskit.org/textbook/ch-algorithms/images/grover_circuit_high_level.png\">"
   ]
  }
 ],
 "metadata": {
  "language_info": {
   "name": "python"
  },
  "orig_nbformat": 4
 },
 "nbformat": 4,
 "nbformat_minor": 2
}
