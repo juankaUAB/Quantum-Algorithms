{
 "cells": [
  {
   "attachments": {},
   "cell_type": "markdown",
   "metadata": {},
   "source": [
    "<b>Grover Algorithm</b>"
   ]
  },
  {
   "attachments": {},
   "cell_type": "markdown",
   "metadata": {},
   "source": [
    "In this notebook we will introduce and explain Grover's Algorithm, that is used for unstructured search problems. As it is a quantum algorithm, it offers advantages that classical algorithms that cover the same problem cannot give, and that's why is widely used in that type of problems. This algorithm can give more speed in large database searches and, so, can speed up an unstructured search, specially when is very large.  \n",
    "  \n",
    "The main feature of Grover's Algorithm is the amplitude amplification trick, that consists on amplifying the amplitude of the element that we want to find. For that, we will pass to the algorithm a unstructured list, and the algorithm, with an oracle, will amplify the amplitude of the element that we want to find. That's why we will have to code the Oracle to do an specific task, on a specific element of the list.  \n",
    "  \n",
    "We will call this element we want to find the winner, w.  \n",
    "  \n",
    "<img src=\"https://qiskit.org/textbook/ch-algorithms/images/grover_list.png\">  \n",
    "  \n",
    "To find the purple element, in classical computation we would have to check, on average, N/2 of these boxes (half of all), and in the worst case, all of them, and in the best case, we will find it at first position. On quantum computation, we can find it in $\\sqrt{N}$ steps with Grover's amplitude amplification trick. Additionally, the algorithm doesn't use the list's internal structure, because it works with qubits, which makes it generic and reduces the complexity."
   ]
  },
  {
   "attachments": {},
   "cell_type": "markdown",
   "metadata": {},
   "source": [
    "Now, we will talk about the oracle. We have to create a oracle that is able to change the phase of the element that we want to find. For example, we have 3 qubits (and that involves that our unstructed list is: [000,001,...,111]), and we want to find the element 101, so w = 101. Grover's algorithm will do:  \n",
    "  \n",
    "$U_\\omega|x\\rangle = \\bigg\\{\n",
    "\\begin{aligned}\n",
    "\\phantom{-}|x\\rangle \\quad \\text{if} \\; x \\neq \\omega \\\\\n",
    "-|x\\rangle \\quad \\text{if} \\; x = \\omega \\\\\n",
    "\\end{aligned}$  \n",
    "  \n",
    "And we can do that with custom gates that have associated an unitary matrix. The gate that can change the phase of 101 is:  \n",
    "  \n",
    "$U_\\omega = \n",
    "\\begin{bmatrix}\n",
    "1 & 0 & 0 & 0 & 0 & 0 & 0 & 0 \\\\\n",
    "0 & 1 & 0 & 0 & 0 & 0 & 0 & 0 \\\\\n",
    "0 & 0 & 1 & 0 & 0 & 0 & 0 & 0 \\\\\n",
    "0 & 0 & 0 & 1 & 0 & 0 & 0 & 0 \\\\\n",
    "0 & 0 & 0 & 0 & 1 & 0 & 0 & 0 \\\\\n",
    "0 & 0 & 0 & 0 & 0 & -1 & 0 & 0 \\\\\n",
    "0 & 0 & 0 & 0 & 0 & 0 & 1 & 0 \\\\\n",
    "0 & 0 & 0 & 0 & 0 & 0 & 0 & 1 \\\\\n",
    "\\end{bmatrix}\n",
    "\\begin{aligned}\n",
    "\\\\\n",
    "\\\\\n",
    "\\\\\n",
    "\\\\\n",
    "\\\\\n",
    "\\\\\n",
    "\\leftarrow \\omega = \\text{101}\\\\\n",
    "\\\\\n",
    "\\\\\n",
    "\\\\\n",
    "\\end{aligned}$"
   ]
  },
  {
   "attachments": {},
   "cell_type": "markdown",
   "metadata": {},
   "source": [
    "Once we have the phase of the element we want to find, we will apply an additional reflection ($U_s = 2|s\\rangle\\langle s| - I$) that reflects the unique negative state (the state we want to find) with large amplitude than the rest of the elements. Finally, when we measure all the qubits, we will find that the most probable state is the state we want to find, the winner state.  \n",
    "Here we have a representation of all the process:  \n",
    "  \n",
    "<img src=\"https://qiskit.org/textbook/ch-algorithms/images/grover_circuit_high_level.png\">"
   ]
  },
  {
   "attachments": {},
   "cell_type": "markdown",
   "metadata": {},
   "source": [
    "Now we will take an example to develop the code in Python of the circuit.  \n",
    "To make it simple, we will have only 2 qubits in the circuit, that gives us the list composed of 4 elements: [00,01,10,11], and we will suppose that we want to find the element 11, so w = 11."
   ]
  },
  {
   "attachments": {},
   "cell_type": "markdown",
   "metadata": {},
   "source": [
    "First of all, we will create the oracle. One oracle that adds a negative phase to the element we want to find, 11, is the controlled-Z gate, with Unitary matrix:  \n",
    "  \n",
    "$U_\\omega = \n",
    "\\begin{bmatrix}\n",
    "1 & 0 & 0 & 0 \\\\\n",
    "0 & 1 & 0 & 0 \\\\\n",
    "0 & 0 & 1 & 0 \\\\\n",
    "0 & 0 & 0 & -1 \\\\\n",
    "\\end{bmatrix}$  \n",
    "  \n",
    "So, as a oracle Uf, we will have:  \n",
    "  \n",
    "<img src=\"https://qiskit.org/textbook/ch-algorithms/images/grover_circuit_2qbuits_oracle_11.svg\">  \n",
    "  \n",
    "And the diffuser $U_s = 2|s\\rangle\\langle s| - I$ will be:  \n",
    "  \n",
    "<img src=\"https://qiskit.org/textbook/ch-algorithms/images/grover_circuit_2qbuits_reflection.svg\">"
   ]
  },
  {
   "attachments": {},
   "cell_type": "markdown",
   "metadata": {},
   "source": [
    "So, with the Oracle and the Diffuser introduced, now we can develop the code."
   ]
  },
  {
   "cell_type": "code",
   "execution_count": 1,
   "metadata": {},
   "outputs": [],
   "source": [
    "from qiskit import QuantumCircuit, assemble, Aer, transpile\n",
    "from qiskit.visualization import plot_histogram\n",
    "import numpy as np\n",
    "from math import pi"
   ]
  },
  {
   "cell_type": "code",
   "execution_count": 6,
   "metadata": {},
   "outputs": [
    {
     "data": {
      "image/png": "[encoded data removed]",
      "text/plain": [
       "<Figure size 621.739x200.667 with 1 Axes>"
      ]
     },
     "execution_count": 6,
     "metadata": {},
     "output_type": "execute_result"
    }
   ],
   "source": [
    "algorithm = QuantumCircuit(2)\n",
    "\n",
    "algorithm.h([0,1])\n",
    "algorithm.cz(0,1)\n",
    "algorithm.h([0,1])\n",
    "algorithm.z([0,1])\n",
    "algorithm.cz(0,1)\n",
    "algorithm.h([0,1])\n",
    "\n",
    "algorithm.draw(output='mpl')"
   ]
  },
  {
   "attachments": {},
   "cell_type": "markdown",
   "metadata": {},
   "source": [
    "And then, we will see the result state vector to see if all states except the winner are with 0% of probability to see it."
   ]
  },
  {
   "cell_type": "code",
   "execution_count": 9,
   "metadata": {},
   "outputs": [
    {
     "name": "stdout",
     "output_type": "stream",
     "text": [
      "Statevector([-7.49879891e-33+0.0000000e+00j,\n",
      "              0.00000000e+00+1.2246468e-16j,\n",
      "              7.49879891e-33+1.2246468e-16j,\n",
      "              1.00000000e+00-2.4492936e-16j],\n",
      "            dims=(2, 2))\n"
     ]
    }
   ],
   "source": [
    "algorithm_copy = algorithm.copy()\n",
    "simulator = Aer.get_backend('aer_simulator')\n",
    "algorithm_copy.save_statevector()\n",
    "qobj = assemble(algorithm_copy)\n",
    "statevec = simulator.run(qobj).result().get_statevector()\n",
    "print(statevec)"
   ]
  },
  {
   "attachments": {},
   "cell_type": "markdown",
   "metadata": {},
   "source": [
    "As we can see, the only state with the real part with value 1 is the last one (the state |11>). This means that we have a 100% of chance to get the last state, the winner state we wanted to find."
   ]
  },
  {
   "cell_type": "code",
   "execution_count": 10,
   "metadata": {},
   "outputs": [
    {
     "data": {
      "image/png": "[encoded data removed]",
      "text/plain": [
       "<Figure size 700x500 with 1 Axes>"
      ]
     },
     "execution_count": 10,
     "metadata": {},
     "output_type": "execute_result"
    }
   ],
   "source": [
    "histogram = simulator.run(qobj).result().get_counts()\n",
    "plot_histogram(histogram)"
   ]
  },
  {
   "attachments": {},
   "cell_type": "markdown",
   "metadata": {},
   "source": [
    "The circuit works correctly! We have an algorithm able to amplify the amplitude of any state we want with only few executions, and that's so powerful feature of the quantum computation."
   ]
  }
 ],
 "metadata": {
  "kernelspec": {
   "display_name": "Python 3",
   "language": "python",
   "name": "python3"
  },
  "language_info": {
   "codemirror_mode": {
    "name": "ipython",
    "version": 3
   },
   "file_extension": ".py",
   "mimetype": "text/x-python",
   "name": "python",
   "nbconvert_exporter": "python",
   "pygments_lexer": "ipython3",
   "version": "3.11.1"
  },
  "orig_nbformat": 4,
  "vscode": {
   "interpreter": {
    "hash": "8f7fc98bfb4723657a38f5add945f22f2501fb8813699e23552ce7cfb912a0b7"
   }
  }
 },
 "nbformat": 4,
 "nbformat_minor": 2
}
